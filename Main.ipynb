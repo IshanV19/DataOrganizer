{
 "cells": [
  {
   "cell_type": "code",
   "execution_count": null,
   "id": "ae5d5d0b-db8e-4e72-9745-5bb862e30d12",
   "metadata": {},
   "outputs": [],
   "source": [
    "# main.ipynb\n",
    "\n",
    "import os\n",
    "import pandas as pd\n",
    "from FileHandler import ask_directory, check_directory, select_excel_files, confirm_action\n",
    "from SubTables import process_data_file\n",
    "from MasterTable import combine_and_organize\n",
    "\n",
    "try:\n",
    "    # Prompt user to input directories\n",
    "    input_directory = ask_directory(\"Enter the address of Input Directory: \")\n",
    "\n",
    "    # Check if input_directory exists and is valid\n",
    "    check_directory(input_directory)\n",
    "\n",
    "    # Select .xlsx or .csv files to process\n",
    "    selected_files = select_excel_files(input_directory)\n",
    "    if not selected_files:\n",
    "        print(\"Process cancelled. No files selected.\")\n",
    "    else:\n",
    "        # Ask user for output directory for organized data\n",
    "        output_directory = ask_directory(\"Enter the address of Output Directory for Organized Data: \")\n",
    "        os.makedirs(output_directory, exist_ok=True)\n",
    "\n",
    "        # Process selected .xlsx or .csv files\n",
    "        organized_files = []\n",
    "        for file in selected_files:\n",
    "            file_path = os.path.join(input_directory, file)\n",
    "\n",
    "            # Process the file based on its type (.xlsx or .csv)\n",
    "            excel_file, success = process_data_file(file_path, output_directory)\n",
    "            if success:\n",
    "                print(f\"Processed '{file}' and saved to '{excel_file}'.\")\n",
    "                organized_files.append(excel_file)\n",
    "            else:\n",
    "                print(f\"Processing failed for '{file}'.\")\n",
    "\n",
    "        # After processing, ask user if they want to add data to master table\n",
    "        if confirm_action():\n",
    "            # Ask user for output directory for master table\n",
    "            master_table_output = ask_directory(\"Enter the address of Output Directory for Master Table: \")\n",
    "            os.makedirs(master_table_output, exist_ok=True)\n",
    "\n",
    "            # Combine organized data into master table\n",
    "            master_table_file = os.path.join(master_table_output, \"master_table.xlsx\")\n",
    "            combine_and_organize(output_directory, master_table_file)\n",
    "        else:\n",
    "            print(\"Data processing completed. Data was not added to the master table.\")\n",
    "\n",
    "except PermissionError as pe:\n",
    "    print(f\"Permission error occurred: {pe}. Please check permissions.\")\n",
    "except FileNotFoundError as fnf:\n",
    "    print(f\"File not found error: {fnf}.\")\n",
    "except Exception as e:\n",
    "    print(f\"An unexpected error occurred: {e}\")\n"
   ]
  }
 ],
 "metadata": {
  "kernelspec": {
   "display_name": "Python 3 (ipykernel)",
   "language": "python",
   "name": "python3"
  },
  "language_info": {
   "codemirror_mode": {
    "name": "ipython",
    "version": 3
   },
   "file_extension": ".py",
   "mimetype": "text/x-python",
   "name": "python",
   "nbconvert_exporter": "python",
   "pygments_lexer": "ipython3",
   "version": "3.11.7"
  }
 },
 "nbformat": 4,
 "nbformat_minor": 5
}
