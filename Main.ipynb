{
 "cells": [
  {
   "cell_type": "code",
   "execution_count": 5,
   "id": "ae5d5d0b-db8e-4e72-9745-5bb862e30d12",
   "metadata": {
    "scrolled": true
   },
   "outputs": [
    {
     "name": "stdin",
     "output_type": "stream",
     "text": [
      "Enter the address of Input Directory:   N:\\clinical\\175\\Dose escalation - combined analysis\\MSD_Panel_Proinflam\n"
     ]
    },
    {
     "name": "stdout",
     "output_type": "stream",
     "text": [
      "Select the .xlsx or .csv files to process (comma-separated, enter '0' to cancel):\n",
      "1. 20231108 NT175 Proinflammatory Panel 1 201-0205-001.csv\n",
      "2. 20231121 201-0201-001 d-28 to d14 and 201-0205-001 w6.csv\n",
      "3. 20231129 201-0201-001 d28 201-0201-002 d-28 to d7.csv\n",
      "4. 20240117 Proinflam 201-0205-001 -0201-001 -0201-002.csv\n",
      "5. 20240208 Proinflam 201-0201-001 m3 prog.csv\n",
      "6. 20240306 Proinflammatory Panel 1 NT175 201-0208-001, etc.csv\n",
      "7. 20240405 MSD Proinflam 201-0208-001 -002 -003.csv\n"
     ]
    },
    {
     "name": "stdin",
     "output_type": "stream",
     "text": [
      "Enter file numbers (e.g., 1, 2, 3) or 'a' for all:  a\n",
      "Enter the address of Output Directory for Organized Data:   C:\\Users\\IshanVallamsetty\\OneDrive - Neogene Therapeutics, Inc\\Desktop\\Results\n"
     ]
    },
    {
     "name": "stdout",
     "output_type": "stream",
     "text": [
      "Excel file 'C:\\Users\\IshanVallamsetty\\OneDrive - Neogene Therapeutics, Inc\\Desktop\\Results\\20231108 NT175 Proinflammatory Panel 1 201-0205-001_organized_data.xlsx' already exists. Skipping processing for '20231108 NT175 Proinflammatory Panel 1 201-0205-001.csv'.\n",
      "Processed '20231108 NT175 Proinflammatory Panel 1 201-0205-001.csv' and saved to 'C:\\Users\\IshanVallamsetty\\OneDrive - Neogene Therapeutics, Inc\\Desktop\\Results\\20231108 NT175 Proinflammatory Panel 1 201-0205-001_organized_data.xlsx'.\n",
      "Excel file 'C:\\Users\\IshanVallamsetty\\OneDrive - Neogene Therapeutics, Inc\\Desktop\\Results\\20231121 201-0201-001 d-28 to d14 and 201-0205-001 w6_organized_data.xlsx' already exists. Skipping processing for '20231121 201-0201-001 d-28 to d14 and 201-0205-001 w6.csv'.\n",
      "Processed '20231121 201-0201-001 d-28 to d14 and 201-0205-001 w6.csv' and saved to 'C:\\Users\\IshanVallamsetty\\OneDrive - Neogene Therapeutics, Inc\\Desktop\\Results\\20231121 201-0201-001 d-28 to d14 and 201-0205-001 w6_organized_data.xlsx'.\n",
      "Excel file 'C:\\Users\\IshanVallamsetty\\OneDrive - Neogene Therapeutics, Inc\\Desktop\\Results\\20231129 201-0201-001 d28 201-0201-002 d-28 to d7_organized_data.xlsx' already exists. Skipping processing for '20231129 201-0201-001 d28 201-0201-002 d-28 to d7.csv'.\n",
      "Processed '20231129 201-0201-001 d28 201-0201-002 d-28 to d7.csv' and saved to 'C:\\Users\\IshanVallamsetty\\OneDrive - Neogene Therapeutics, Inc\\Desktop\\Results\\20231129 201-0201-001 d28 201-0201-002 d-28 to d7_organized_data.xlsx'.\n",
      "Excel file 'C:\\Users\\IshanVallamsetty\\OneDrive - Neogene Therapeutics, Inc\\Desktop\\Results\\20240117 Proinflam 201-0205-001 -0201-001 -0201-002_organized_data.xlsx' already exists. Skipping processing for '20240117 Proinflam 201-0205-001 -0201-001 -0201-002.csv'.\n",
      "Processed '20240117 Proinflam 201-0205-001 -0201-001 -0201-002.csv' and saved to 'C:\\Users\\IshanVallamsetty\\OneDrive - Neogene Therapeutics, Inc\\Desktop\\Results\\20240117 Proinflam 201-0205-001 -0201-001 -0201-002_organized_data.xlsx'.\n",
      "Excel file 'C:\\Users\\IshanVallamsetty\\OneDrive - Neogene Therapeutics, Inc\\Desktop\\Results\\20240208 Proinflam 201-0201-001 m3 prog_organized_data.xlsx' already exists. Skipping processing for '20240208 Proinflam 201-0201-001 m3 prog.csv'.\n",
      "Processed '20240208 Proinflam 201-0201-001 m3 prog.csv' and saved to 'C:\\Users\\IshanVallamsetty\\OneDrive - Neogene Therapeutics, Inc\\Desktop\\Results\\20240208 Proinflam 201-0201-001 m3 prog_organized_data.xlsx'.\n",
      "Excel file 'C:\\Users\\IshanVallamsetty\\OneDrive - Neogene Therapeutics, Inc\\Desktop\\Results\\20240306 Proinflammatory Panel 1 NT175 201-0208-001, etc_organized_data.xlsx' already exists. Skipping processing for '20240306 Proinflammatory Panel 1 NT175 201-0208-001, etc.csv'.\n",
      "Processed '20240306 Proinflammatory Panel 1 NT175 201-0208-001, etc.csv' and saved to 'C:\\Users\\IshanVallamsetty\\OneDrive - Neogene Therapeutics, Inc\\Desktop\\Results\\20240306 Proinflammatory Panel 1 NT175 201-0208-001, etc_organized_data.xlsx'.\n",
      "Excel file 'C:\\Users\\IshanVallamsetty\\OneDrive - Neogene Therapeutics, Inc\\Desktop\\Results\\20240405 MSD Proinflam 201-0208-001 -002 -003_organized_data.xlsx' already exists. Skipping processing for '20240405 MSD Proinflam 201-0208-001 -002 -003.csv'.\n",
      "Processed '20240405 MSD Proinflam 201-0208-001 -002 -003.csv' and saved to 'C:\\Users\\IshanVallamsetty\\OneDrive - Neogene Therapeutics, Inc\\Desktop\\Results\\20240405 MSD Proinflam 201-0208-001 -002 -003_organized_data.xlsx'.\n"
     ]
    },
    {
     "name": "stdin",
     "output_type": "stream",
     "text": [
      "Would you like to add the organized data to the master table? (yes/no):  yes\n",
      "Enter the address of Output Directory for Master Table:   C:\\Users\\IshanVallamsetty\\OneDrive - Neogene Therapeutics, Inc\\Desktop\\Results\n"
     ]
    },
    {
     "name": "stdout",
     "output_type": "stream",
     "text": [
      "Master table updated successfully at 'C:\\Users\\IshanVallamsetty\\OneDrive - Neogene Therapeutics, Inc\\Desktop\\Results\\master_table.xlsx'.\n"
     ]
    }
   ],
   "source": [
    "# main.ipynb\n",
    "\n",
    "import os\n",
    "import pandas as pd\n",
    "from FileHandler import ask_directory, check_directory, select_excel_files, confirm_action\n",
    "from SubTables import process_data_file\n",
    "from MasterTable import combine_and_organize\n",
    "\n",
    "try:\n",
    "    # Prompt user to input directories\n",
    "    input_directory = ask_directory(\"Enter the address of Input Directory: \")\n",
    "\n",
    "    # Check if input_directory exists and is valid\n",
    "    check_directory(input_directory)\n",
    "\n",
    "    # Select .xlsx or .csv files to process\n",
    "    selected_files = select_excel_files(input_directory)\n",
    "    if not selected_files:\n",
    "        print(\"Process cancelled. No files selected.\")\n",
    "    else:\n",
    "        # Ask user for output directory for organized data\n",
    "        output_directory = ask_directory(\"Enter the address of Output Directory for Organized Data: \")\n",
    "        os.makedirs(output_directory, exist_ok=True)\n",
    "\n",
    "        # Process selected .xlsx or .csv files\n",
    "        organized_files = []\n",
    "        for file in selected_files:\n",
    "            file_path = os.path.join(input_directory, file)\n",
    "\n",
    "            # Process the file based on its type (.xlsx or .csv)\n",
    "            excel_file, success = process_data_file(file_path, output_directory)\n",
    "            if success:\n",
    "                print(f\"Processed '{file}' and saved to '{excel_file}'.\")\n",
    "                organized_files.append(excel_file)\n",
    "            else:\n",
    "                print(f\"Processing failed for '{file}'.\")\n",
    "\n",
    "        # After processing, ask user if they want to add data to master table\n",
    "        if confirm_action():\n",
    "            # Ask user for output directory for master table\n",
    "            master_table_output = ask_directory(\"Enter the address of Output Directory for Master Table: \")\n",
    "            os.makedirs(master_table_output, exist_ok=True)\n",
    "\n",
    "            # Combine organized data into master table\n",
    "            master_table_file = os.path.join(master_table_output, \"master_table.xlsx\")\n",
    "            combine_and_organize(output_directory, master_table_file)\n",
    "        else:\n",
    "            print(\"Data processing completed. Data was not added to the master table.\")\n",
    "\n",
    "except PermissionError as pe:\n",
    "    print(f\"Permission error occurred: {pe}. Please check permissions.\")\n",
    "except FileNotFoundError as fnf:\n",
    "    print(f\"File not found error: {fnf}.\")\n",
    "except Exception as e:\n",
    "    print(f\"An unexpected error occurred: {e}\")\n"
   ]
  },
  {
   "cell_type": "code",
   "execution_count": null,
   "id": "abf6c56b-05d3-4055-8e13-ce019886e45a",
   "metadata": {},
   "outputs": [],
   "source": []
  }
 ],
 "metadata": {
  "kernelspec": {
   "display_name": "Python 3 (ipykernel)",
   "language": "python",
   "name": "python3"
  },
  "language_info": {
   "codemirror_mode": {
    "name": "ipython",
    "version": 3
   },
   "file_extension": ".py",
   "mimetype": "text/x-python",
   "name": "python",
   "nbconvert_exporter": "python",
   "pygments_lexer": "ipython3",
   "version": "3.11.7"
  }
 },
 "nbformat": 4,
 "nbformat_minor": 5
}
