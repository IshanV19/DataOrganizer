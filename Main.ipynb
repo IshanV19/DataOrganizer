{
 "cells": [
  {
   "cell_type": "code",
   "execution_count": 1,
   "id": "ae5d5d0b-db8e-4e72-9745-5bb862e30d12",
   "metadata": {},
   "outputs": [
    {
     "name": "stdout",
     "output_type": "stream",
     "text": [
      "Input Directory: N:\\clinical\\175\\Dose escalation - combined analysis\\MSD_Panel_Proinflam\n",
      "Output Directory for Organized Files: C:\\Users\\IshanVallamsetty\\OneDrive - Neogene Therapeutics, Inc\\Desktop\\ResultsMSDPRO\n",
      "Output Directory for Master Table: C:\\Users\\IshanVallamsetty\\OneDrive - Neogene Therapeutics, Inc\\Desktop\\ResultsMSDPRO\n",
      "Select the .csv files to process (comma-separated, enter '0' to cancel):\n",
      "1. 20231108 NT175 Proinflammatory Panel 1 201-0205-001.csv\n",
      "2. 20231121 201-0201-001 d-28 to d14 and 201-0205-001 w6.csv\n",
      "3. 20231129 201-0201-001 d28 201-0201-002 d-28 to d7.csv\n",
      "4. 20240117 Proinflam 201-0205-001 -0201-001 -0201-002.csv\n",
      "5. 20240208 Proinflam 201-0201-001 m3 prog.csv\n",
      "6. 20240306 Proinflammatory Panel 1 NT175 201-0208-001, etc.csv\n",
      "7. 20240405 MSD Proinflam 201-0208-001 -002 -003.csv\n"
     ]
    },
    {
     "name": "stdin",
     "output_type": "stream",
     "text": [
      "Enter file numbers (e.g., 1, 2, 3) or 'a' for all:  a\n"
     ]
    },
    {
     "name": "stdout",
     "output_type": "stream",
     "text": [
      "Excel file 'C:\\Users\\IshanVallamsetty\\OneDrive - Neogene Therapeutics, Inc\\Desktop\\ResultsMSDPRO\\20231108 NT175 Proinflammatory Panel 1 201-0205-001MSDProinflam_organized_data.xlsx' created successfully with assay results organized and formatted.\n",
      "Processed '20231108 NT175 Proinflammatory Panel 1 201-0205-001.csv' and saved to 'C:\\Users\\IshanVallamsetty\\OneDrive - Neogene Therapeutics, Inc\\Desktop\\ResultsMSDPRO\\20231108 NT175 Proinflammatory Panel 1 201-0205-001MSDProinflam_organized_data.xlsx'.\n",
      "Excel file 'C:\\Users\\IshanVallamsetty\\OneDrive - Neogene Therapeutics, Inc\\Desktop\\ResultsMSDPRO\\20231121 201-0201-001 d-28 to d14 and 201-0205-001 w6MSDProinflam_organized_data.xlsx' created successfully with assay results organized and formatted.\n",
      "Processed '20231121 201-0201-001 d-28 to d14 and 201-0205-001 w6.csv' and saved to 'C:\\Users\\IshanVallamsetty\\OneDrive - Neogene Therapeutics, Inc\\Desktop\\ResultsMSDPRO\\20231121 201-0201-001 d-28 to d14 and 201-0205-001 w6MSDProinflam_organized_data.xlsx'.\n",
      "Excel file 'C:\\Users\\IshanVallamsetty\\OneDrive - Neogene Therapeutics, Inc\\Desktop\\ResultsMSDPRO\\20231129 201-0201-001 d28 201-0201-002 d-28 to d7MSDProinflam_organized_data.xlsx' created successfully with assay results organized and formatted.\n",
      "Processed '20231129 201-0201-001 d28 201-0201-002 d-28 to d7.csv' and saved to 'C:\\Users\\IshanVallamsetty\\OneDrive - Neogene Therapeutics, Inc\\Desktop\\ResultsMSDPRO\\20231129 201-0201-001 d28 201-0201-002 d-28 to d7MSDProinflam_organized_data.xlsx'.\n",
      "Excel file 'C:\\Users\\IshanVallamsetty\\OneDrive - Neogene Therapeutics, Inc\\Desktop\\ResultsMSDPRO\\20240117 Proinflam 201-0205-001 -0201-001 -0201-002MSDProinflam_organized_data.xlsx' created successfully with assay results organized and formatted.\n",
      "Processed '20240117 Proinflam 201-0205-001 -0201-001 -0201-002.csv' and saved to 'C:\\Users\\IshanVallamsetty\\OneDrive - Neogene Therapeutics, Inc\\Desktop\\ResultsMSDPRO\\20240117 Proinflam 201-0205-001 -0201-001 -0201-002MSDProinflam_organized_data.xlsx'.\n",
      "Excel file 'C:\\Users\\IshanVallamsetty\\OneDrive - Neogene Therapeutics, Inc\\Desktop\\ResultsMSDPRO\\20240208 Proinflam 201-0201-001 m3 progMSDProinflam_organized_data.xlsx' created successfully with assay results organized and formatted.\n",
      "Processed '20240208 Proinflam 201-0201-001 m3 prog.csv' and saved to 'C:\\Users\\IshanVallamsetty\\OneDrive - Neogene Therapeutics, Inc\\Desktop\\ResultsMSDPRO\\20240208 Proinflam 201-0201-001 m3 progMSDProinflam_organized_data.xlsx'.\n",
      "Excel file 'C:\\Users\\IshanVallamsetty\\OneDrive - Neogene Therapeutics, Inc\\Desktop\\ResultsMSDPRO\\20240306 Proinflammatory Panel 1 NT175 201-0208-001, etcMSDProinflam_organized_data.xlsx' created successfully with assay results organized and formatted.\n",
      "Processed '20240306 Proinflammatory Panel 1 NT175 201-0208-001, etc.csv' and saved to 'C:\\Users\\IshanVallamsetty\\OneDrive - Neogene Therapeutics, Inc\\Desktop\\ResultsMSDPRO\\20240306 Proinflammatory Panel 1 NT175 201-0208-001, etcMSDProinflam_organized_data.xlsx'.\n",
      "Excel file 'C:\\Users\\IshanVallamsetty\\OneDrive - Neogene Therapeutics, Inc\\Desktop\\ResultsMSDPRO\\20240405 MSD Proinflam 201-0208-001 -002 -003MSDProinflam_organized_data.xlsx' created successfully with assay results organized and formatted.\n",
      "Processed '20240405 MSD Proinflam 201-0208-001 -002 -003.csv' and saved to 'C:\\Users\\IshanVallamsetty\\OneDrive - Neogene Therapeutics, Inc\\Desktop\\ResultsMSDPRO\\20240405 MSD Proinflam 201-0208-001 -002 -003MSDProinflam_organized_data.xlsx'.\n",
      "Found organized files: ['20231108 NT175 Proinflammatory Panel 1 201-0205-001MSDProinflam_organized_data.xlsx', '20231121 201-0201-001 d-28 to d14 and 201-0205-001 w6MSDProinflam_organized_data.xlsx', '20231129 201-0201-001 d28 201-0201-002 d-28 to d7MSDProinflam_organized_data.xlsx', '20240117 Proinflam 201-0205-001 -0201-001 -0201-002MSDProinflam_organized_data.xlsx', '20240208 Proinflam 201-0201-001 m3 progMSDProinflam_organized_data.xlsx', '20240306 Proinflammatory Panel 1 NT175 201-0208-001, etcMSDProinflam_organized_data.xlsx', '20240405 MSD Proinflam 201-0208-001 -002 -003MSDProinflam_organized_data.xlsx']\n",
      "Master table for sample group '101' updated successfully at 'C:\\Users\\IshanVallamsetty\\OneDrive - Neogene Therapeutics, Inc\\Desktop\\ResultsMSDPRO\\101_master_table.xlsx'.\n",
      "Master table for sample group '201' updated successfully at 'C:\\Users\\IshanVallamsetty\\OneDrive - Neogene Therapeutics, Inc\\Desktop\\ResultsMSDPRO\\201_master_table.xlsx'.\n"
     ]
    }
   ],
   "source": [
    "# Main.ipynb\n",
    "\n",
    "import os\n",
    "from FileHandler import check_directory, select_excel_files, read_paths_from_file\n",
    "from SubTables import process_csv_file\n",
    "from MasterTable import combine_and_organize\n",
    "\n",
    "try:\n",
    "    # Read paths from the text file\n",
    "    file_paths = 'FilePaths.txt'\n",
    "    input_directory, output_directory_organized, output_directory_master = read_paths_from_file(file_paths)\n",
    "\n",
    "    # Debug: Print paths to check their values\n",
    "    print(f\"Input Directory: {input_directory}\")\n",
    "    print(f\"Output Directory for Organized Files: {output_directory_organized}\")\n",
    "    print(f\"Output Directory for Master Table: {output_directory_master}\")\n",
    "\n",
    "    # Check if input_directory exists and is valid\n",
    "    check_directory(input_directory)\n",
    "\n",
    "    # Select .csv files to process\n",
    "    selected_files = select_excel_files(input_directory)\n",
    "    \n",
    "    if not selected_files:\n",
    "        print(\"No files selected.\")\n",
    "    else:\n",
    "        os.makedirs(output_directory_organized, exist_ok=True)\n",
    "\n",
    "        # Process selected files\n",
    "        organized_files = []\n",
    "        for file in selected_files:\n",
    "            file_path = os.path.join(input_directory, file)\n",
    "\n",
    "            if file_path.endswith('.csv'):\n",
    "                process_func = process_csv_file\n",
    "            else:\n",
    "                print(f\"Skipping file '{file}'. Unsupported file format.\")\n",
    "                continue\n",
    "\n",
    "            # Process the file and save organized data\n",
    "            excel_file, success = process_func(file_path, output_directory_organized)\n",
    "            if success:\n",
    "                print(f\"Processed '{file}' and saved to '{excel_file}'.\")\n",
    "                organized_files.append(excel_file)\n",
    "            else:\n",
    "                print(f\"Processing failed for '{file}'.\")\n",
    "\n",
    "        # Combine organized data into master table automatically\n",
    "        os.makedirs(output_directory_master, exist_ok=True)\n",
    "\n",
    "        # Combine organized data into master table\n",
    "        combine_and_organize(output_directory_organized, output_directory_master)\n",
    "\n",
    "except PermissionError as pe:\n",
    "    print(f\"Permission error occurred: {pe}. Please check permissions.\")\n",
    "except FileNotFoundError as fnf:\n",
    "    print(f\"File not found error: {fnf}.\")\n",
    "except Exception as e:\n",
    "    print(f\"An unexpected error occurred: {e}\")"
   ]
  },
  {
   "cell_type": "code",
   "execution_count": null,
   "id": "88ae739a-59cb-452d-aec2-9fcdce710fe9",
   "metadata": {},
   "outputs": [],
   "source": []
  }
 ],
 "metadata": {
  "kernelspec": {
   "display_name": "Python 3 (ipykernel)",
   "language": "python",
   "name": "python3"
  },
  "language_info": {
   "codemirror_mode": {
    "name": "ipython",
    "version": 3
   },
   "file_extension": ".py",
   "mimetype": "text/x-python",
   "name": "python",
   "nbconvert_exporter": "python",
   "pygments_lexer": "ipython3",
   "version": "3.11.7"
  }
 },
 "nbformat": 4,
 "nbformat_minor": 5
}
